{
 "cells": [
  {
   "cell_type": "markdown",
   "metadata": {},
   "source": [
    "### P5js graphing test\n",
    "This notebook is to see how well p5js graphing (graphica.js) will work."
   ]
  },
  {
   "cell_type": "code",
   "execution_count": 1,
   "metadata": {},
   "outputs": [
    {
     "data": {
      "application/javascript": [
       "console.log(\"Let's roll!\")"
      ],
      "text/plain": [
       "<IPython.core.display.Javascript object>"
      ]
     },
     "metadata": {},
     "output_type": "display_data"
    }
   ],
   "source": [
    "%%javascript\n",
    "console.log(\"Let's roll!\")"
   ]
  },
  {
   "cell_type": "code",
   "execution_count": 2,
   "metadata": {},
   "outputs": [
    {
     "data": {
      "application/javascript": [
       "\n",
       "let myVar = 'test'\n",
       "console.log(myVar)"
      ],
      "text/plain": [
       "<IPython.core.display.Javascript object>"
      ]
     },
     "metadata": {},
     "output_type": "display_data"
    }
   ],
   "source": [
    "%%javascript\n",
    "\n",
    "let myVar = 'test'\n",
    "console.log(myVar)"
   ]
  },
  {
   "cell_type": "code",
   "execution_count": 3,
   "metadata": {},
   "outputs": [
    {
     "data": {
      "application/javascript": [
       "\n",
       "element.text('Hello')"
      ],
      "text/plain": [
       "<IPython.core.display.Javascript object>"
      ]
     },
     "metadata": {},
     "output_type": "display_data"
    }
   ],
   "source": [
    "%%javascript\n",
    "\n",
    "element.text('Hello')"
   ]
  },
  {
   "cell_type": "code",
   "execution_count": 4,
   "metadata": {},
   "outputs": [
    {
     "data": {
      "application/javascript": [
       "require.config({\n",
       "    paths: {\n",
       "        'p5': 'https://cdnjs.cloudflare.com/ajax/libs/p5.js/0.7.3/p5', \n",
       "        'p5.dom': 'https://cdnjs.cloudflare.com/ajax/libs/p5.js/0.7.3/addons/p5.dom',\n",
       "        'lodash': 'https://cdnjs.cloudflare.com/ajax/libs/lodash.js/4.17.4/lodash.min'\n",
       "    },\n",
       "    shim: {\n",
       "        'p5.dom': ['p5']\n",
       "    }\n",
       "});"
      ],
      "text/plain": [
       "<IPython.core.display.Javascript object>"
      ]
     },
     "metadata": {},
     "output_type": "display_data"
    }
   ],
   "source": [
    "%%javascript\n",
    "require.config({\n",
    "    paths: {\n",
    "        'p5': 'https://cdnjs.cloudflare.com/ajax/libs/p5.js/0.7.3/p5', \n",
    "        'p5.dom': 'https://cdnjs.cloudflare.com/ajax/libs/p5.js/0.7.3/addons/p5.dom',\n",
    "        'lodash': 'https://cdnjs.cloudflare.com/ajax/libs/lodash.js/4.17.4/lodash.min'\n",
    "    },\n",
    "    shim: {\n",
    "        'p5.dom': ['p5']\n",
    "    }\n",
    "});"
   ]
  },
  {
   "cell_type": "code",
   "execution_count": 5,
   "metadata": {},
   "outputs": [
    {
     "data": {
      "application/javascript": [
       "\n",
       "window.defineModule = function (name, dependencies, module) {\n",
       "    // force the recreation of the module\n",
       "    // (when re-executing a cell)\n",
       "    require.undef(name);\n",
       "    \n",
       "    define(name, dependencies, module);\n",
       "};"
      ],
      "text/plain": [
       "<IPython.core.display.Javascript object>"
      ]
     },
     "metadata": {},
     "output_type": "display_data"
    }
   ],
   "source": [
    "%%javascript \n",
    "\n",
    "window.defineModule = function (name, dependencies, module) {\n",
    "    // force the recreation of the module\n",
    "    // (when re-executing a cell)\n",
    "    require.undef(name);\n",
    "    \n",
    "    define(name, dependencies, module);\n",
    "};"
   ]
  },
  {
   "cell_type": "code",
   "execution_count": 15,
   "metadata": {},
   "outputs": [
    {
     "data": {
      "application/javascript": [
       "\n",
       "window.createSketchView = function (name, dependencies, module) {\n",
       "    \n",
       "    require.undef(name);\n",
       "    \n",
       "    define(name,\n",
       "           ['@jupyter-widgets/base', 'p5', 'lodash'].concat(dependencies),\n",
       "           (widgets, p5, _, ...deps) => {\n",
       "\n",
       "        let viewName = `${name}View`;\n",
       "        \n",
       "        let View = widgets.DOMWidgetView.extend({\n",
       "            initialize: function () {\n",
       "                this.el.setAttribute('style', 'text-align: center;');\n",
       "            },\n",
       "\n",
       "            render: function () {\n",
       "                // pass the model as the last dependency so it can\n",
       "                // be accessed in the sketch\n",
       "                let sketch = module(...deps, this.model);\n",
       "                setTimeout(() => {\n",
       "                    this.sketch = new p5(sketch, this.el);                    \n",
       "                }, 0);\n",
       "            },\n",
       "\n",
       "            remove: function () {\n",
       "                // stop the existing sketch when the view is removed\n",
       "                // so p5.js can cancel the animation frame callback and free up resources\n",
       "                if (this.sketch) {\n",
       "                    this.sketch.remove();\n",
       "                    this.sketch = null;\n",
       "                }\n",
       "            }\n",
       "        });\n",
       "        \n",
       "        return {\n",
       "            [viewName] : View,\n",
       "        };\n",
       "    });\n",
       "}"
      ],
      "text/plain": [
       "<IPython.core.display.Javascript object>"
      ]
     },
     "metadata": {},
     "output_type": "display_data"
    }
   ],
   "source": [
    "%%javascript\n",
    "\n",
    "window.createSketchView = function (name, dependencies, module) {\n",
    "    \n",
    "    require.undef(name);\n",
    "    \n",
    "    define(name,\n",
    "           ['@jupyter-widgets/base', 'p5', 'lodash'].concat(dependencies),\n",
    "           (widgets, p5, _, ...deps) => {\n",
    "\n",
    "        let viewName = `${name}View`;\n",
    "        \n",
    "        let View = widgets.DOMWidgetView.extend({\n",
    "            initialize: function () {\n",
    "                this.el.setAttribute('style', 'text-align: center;');\n",
    "            },\n",
    "\n",
    "            render: function () {\n",
    "                // pass the model as the last dependency so it can\n",
    "                // be accessed in the sketch\n",
    "                let sketch = module(...deps, this.model);\n",
    "                setTimeout(() => {\n",
    "                    this.sketch = new p5(sketch, this.el);                    \n",
    "                }, 0);\n",
    "            },\n",
    "\n",
    "            remove: function () {\n",
    "                // stop the existing sketch when the view is removed\n",
    "                // so p5.js can cancel the animation frame callback and free up resources\n",
    "                if (this.sketch) {\n",
    "                    this.sketch.remove();\n",
    "                    this.sketch = null;\n",
    "                }\n",
    "            }\n",
    "        });\n",
    "        \n",
    "        return {\n",
    "            [viewName] : View,\n",
    "        };\n",
    "    });\n",
    "}"
   ]
  },
  {
   "cell_type": "code",
   "execution_count": 16,
   "metadata": {},
   "outputs": [
    {
     "data": {
      "application/javascript": [
       "\n",
       "// Test module defining a few constants, for example purposes\n",
       "// Such constants should ideally be defined directly in the model\n",
       "// and directly accessed by the view\n",
       "\n",
       "defineModule('testModule', [], () => {\n",
       "    const [W, H] = [500, 500];\n",
       "    return {W, H};\n",
       "})"
      ],
      "text/plain": [
       "<IPython.core.display.Javascript object>"
      ]
     },
     "metadata": {},
     "output_type": "display_data"
    }
   ],
   "source": [
    "%%javascript\n",
    "\n",
    "// Test module defining a few constants, for example purposes\n",
    "// Such constants should ideally be defined directly in the model\n",
    "// and directly accessed by the view\n",
    "\n",
    "defineModule('testModule', [], () => {\n",
    "    const [W, H] = [500, 500];\n",
    "    return {W, H};\n",
    "})"
   ]
  },
  {
   "cell_type": "code",
   "execution_count": null,
   "metadata": {},
   "outputs": [],
   "source": []
  },
  {
   "cell_type": "code",
   "execution_count": 17,
   "metadata": {},
   "outputs": [
    {
     "data": {
      "application/javascript": [
       "\n",
       "createSketchView('Sketch2D', ['testModule', 'p5.dom'], (TestModule, module) => {\n",
       "    return function(p) {\n",
       "        const {W, H} = TestModule;\n",
       "        const [CX, CY] = [W / 2, H / 2];\n",
       "        let rs;\n",
       "        console.log(\"p:\", p)\n",
       "        console.log(\"module:\", module)\n",
       "        \n",
       "        p.setup = function(){\n",
       "            p.createCanvas(W, H);\n",
       "            p.rectMode(p.CENTER);\n",
       "            rs = p.createSlider(0, 20, 2);\n",
       "            rs.position(0,0);\n",
       "        }\n",
       "\n",
       "        p.draw = function () {\n",
       "            p.background('#ddd');\n",
       "            p.translate(CX, CY);\n",
       "            //let n = model.get('n_squares');\n",
       "            let n = rs.value();\n",
       "            _.range(n).forEach(i => {\n",
       "                p.push();\n",
       "                p.rotate(p.frameCount / 200 * (i + 1));\n",
       "                p.fill(i * 5, i * 100, i * 150);\n",
       "                p.rect(0, 0, 200, 200);\n",
       "                p.pop();\n",
       "            });\n",
       "        }\n",
       "    };\n",
       "})"
      ],
      "text/plain": [
       "<IPython.core.display.Javascript object>"
      ]
     },
     "metadata": {},
     "output_type": "display_data"
    }
   ],
   "source": [
    "%%javascript\n",
    "\n",
    "createSketchView('Sketch2D', ['testModule', 'p5.dom'], (TestModule, module) => {\n",
    "    return function(p) {\n",
    "        const {W, H} = TestModule;\n",
    "        const [CX, CY] = [W / 2, H / 2];\n",
    "        let rs;\n",
    "        console.log(\"p:\", p)\n",
    "        console.log(\"module:\", module)\n",
    "        \n",
    "        p.setup = function(){\n",
    "            p.createCanvas(W, H);\n",
    "            p.rectMode(p.CENTER);\n",
    "            rs = p.createSlider(0, 20, 2);\n",
    "            rs.position(0,0);\n",
    "        }\n",
    "\n",
    "        p.draw = function () {\n",
    "            p.background('#ddd');\n",
    "            p.translate(CX, CY);\n",
    "            //let n = model.get('n_squares');\n",
    "            let n = rs.value();\n",
    "            _.range(n).forEach(i => {\n",
    "                p.push();\n",
    "                p.rotate(p.frameCount / 200 * (i + 1));\n",
    "                p.fill(i * 5, i * 100, i * 150);\n",
    "                p.rect(0, 0, 200, 200);\n",
    "                p.pop();\n",
    "            });\n",
    "        }\n",
    "    };\n",
    "})"
   ]
  },
  {
   "cell_type": "code",
   "execution_count": 18,
   "metadata": {},
   "outputs": [],
   "source": [
    "import ipywidgets as widgets\n",
    "from traitlets import Unicode, Int\n",
    "\n",
    "\n",
    "class Sketch2D(widgets.DOMWidget):\n",
    "    _view_name = Unicode('Sketch2DView').tag(sync=True)\n",
    "    _view_module = Unicode('Sketch2D').tag(sync=True)\n",
    "    _view_module_version = Unicode('0.1.0').tag(sync=True)\n",
    "    n_squares = Int(1).tag(sync=True)"
   ]
  },
  {
   "cell_type": "code",
   "execution_count": 19,
   "metadata": {},
   "outputs": [
    {
     "data": {
      "application/vnd.jupyter.widget-view+json": {
       "model_id": "0ea4cc456a084bc0b4518a12b07d3e08",
       "version_major": 2,
       "version_minor": 0
      },
      "text/plain": [
       "Sketch2D()"
      ]
     },
     "metadata": {},
     "output_type": "display_data"
    }
   ],
   "source": [
    "sketch_2d = Sketch2D()\n",
    "sketch_2d"
   ]
  }
 ],
 "metadata": {
  "kernelspec": {
   "display_name": "Python 2",
   "language": "python",
   "name": "python2"
  },
  "language_info": {
   "codemirror_mode": {
    "name": "ipython",
    "version": 2
   },
   "file_extension": ".py",
   "mimetype": "text/x-python",
   "name": "python",
   "nbconvert_exporter": "python",
   "pygments_lexer": "ipython2",
   "version": "2.7.10"
  }
 },
 "nbformat": 4,
 "nbformat_minor": 2
}
