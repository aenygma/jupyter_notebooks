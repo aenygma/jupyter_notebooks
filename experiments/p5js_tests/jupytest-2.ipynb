{
 "cells": [
  {
   "cell_type": "code",
   "execution_count": null,
   "metadata": {},
   "outputs": [],
   "source": [
    "#port = 31415"
   ]
  },
  {
   "cell_type": "code",
   "execution_count": null,
   "metadata": {},
   "outputs": [],
   "source": [
    "# Start Static Server\n",
    "#!../p5js_tests/manage_simplehttpserver.sh start 31415"
   ]
  },
  {
   "cell_type": "code",
   "execution_count": null,
   "metadata": {},
   "outputs": [],
   "source": [
    "%%javascript\n",
    "require.config({\n",
    "    baseUrl: 'http://metis.local:31415/js/',\n",
    "    paths: {\n",
    "        'p5': 'p5.js/p5', \n",
    "        'p5.dom': 'p5.js/p5.dom',\n",
    "        'grafica': 'grafica.js/grafica',\n",
    "        'lodash' : 'lodash/lodash.min',\n",
    "//        'plotly': 'https://cdn.plot.ly/plotly-1.2.0.min.js'\n",
    "    },\n",
    "});\n",
    "\n",
    "window.mydefine = function (name, dependencies, module) {\n",
    "    // force the recreation of the module\n",
    "    // (when re-executing a cell)\n",
    "    console.log('mydef', name);\n",
    "    require.undef(name);\n",
    "    \n",
    "    define(name, dependencies, module);\n",
    "};"
   ]
  },
  {
   "cell_type": "code",
   "execution_count": 1,
   "metadata": {},
   "outputs": [],
   "source": [
    "from IPython.display import display, Javascript, HTML\n",
    "import json"
   ]
  },
  {
   "cell_type": "code",
   "execution_count": null,
   "metadata": {},
   "outputs": [],
   "source": [
    "#a=Javascript(filename=\"js/grafica.js/grafica.js\")\n",
    "#from jupyter_core.paths import jupyter_config_dir\n",
    "#jupyter_dir = jupyter_config_dir()\n",
    "#jupyter_dir"
   ]
  },
  {
   "cell_type": "code",
   "execution_count": null,
   "metadata": {},
   "outputs": [],
   "source": [
    "Javascript(filename=\"circles.js\")"
   ]
  },
  {
   "cell_type": "code",
   "execution_count": 5,
   "metadata": {},
   "outputs": [
    {
     "data": {
      "text/html": [
       "<html>\n",
       "  <head>\n",
       "    <title>circle test</title>\n",
       "    <script src=\"./js/requirejs/require.js\" data-main=\"./js/\"></script>\n",
       "    <script src=\"./circles.js\" type=\"text/javascript\"></script>\n",
       "    <style type=\"text/css\">\n",
       "      #cowabunga {\n",
       "        background-color: #fff;\n",
       "      }\n",
       "    </style>\n",
       "  </head>\n",
       "  <body>\n",
       "    <script language=\"javascript\" type=\"text/javascript\">\n",
       "      require(['simple_cos'], function(circles) {\n",
       "        circles(document.getElementById(\"graph\"));\n",
       "      });\n",
       "    </script>\n",
       "    <div id=\"container\">\n",
       "      <div id=\"graph\"/>\n",
       "      <div id=\"ctrlz\"/>\n",
       "    </div>\n",
       "  </body>\n",
       "</html>\n"
      ],
      "text/plain": [
       "<IPython.core.display.HTML object>"
      ]
     },
     "execution_count": 5,
     "metadata": {},
     "output_type": "execute_result"
    }
   ],
   "source": [
    "#from jupyter_core.paths import jupyter_config_dir\n",
    "#jupyter_dir = jupyter_config_dir()\n",
    "#jupyter_dir\n",
    "HTML(filename=\"circles.html\")"
   ]
  },
  {
   "cell_type": "code",
   "execution_count": null,
   "metadata": {},
   "outputs": [],
   "source": [
    "data = [5, 10, 20, 40, 50, 30, 10, 20, 40, 10, 5];\n",
    "\n",
    "Javascript(\"\"\"\n",
    "(function(element){\n",
    "    require(['simple_cos'], function(circles) {\n",
    "        circles(element.get(0), %s)\n",
    "    });\n",
    "})(element);\n",
    "\"\"\" % json.dumps(data))"
   ]
  },
  {
   "cell_type": "code",
   "execution_count": null,
   "metadata": {},
   "outputs": [],
   "source": [
    "from math import sin\n",
    "x = range(1, 100, 1)\n",
    "y = map(sin, x)\n"
   ]
  },
  {
   "cell_type": "code",
   "execution_count": null,
   "metadata": {},
   "outputs": [],
   "source": [
    "HTML(\"\"\"\n",
    "<script src=\"https://cdn.plot.ly/plotly-1.2.0.min.js\"></script>\n",
    "<div id=\"tester\" style=\"width:600px;height:250px;\"></div>\n",
    "<script>\n",
    "    TESTER = document.getElementById('tester');\n",
    "    Plotly.plot( TESTER, [{\n",
    "    x: [1, 2, 3, 4, 5],\n",
    "    y: [1, 2, 4, 8, 16] }], {\n",
    "    margin: { t: 0 } } );\n",
    "</script>\n",
    "\"\"\")"
   ]
  },
  {
   "cell_type": "code",
   "execution_count": null,
   "metadata": {},
   "outputs": [],
   "source": []
  }
 ],
 "metadata": {
  "kernelspec": {
   "display_name": "Python 2",
   "language": "python",
   "name": "python2"
  },
  "language_info": {
   "codemirror_mode": {
    "name": "ipython",
    "version": 2
   },
   "file_extension": ".py",
   "mimetype": "text/x-python",
   "name": "python",
   "nbconvert_exporter": "python",
   "pygments_lexer": "ipython2",
   "version": "2.7.10"
  }
 },
 "nbformat": 4,
 "nbformat_minor": 2
}
