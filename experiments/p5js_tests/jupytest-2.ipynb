{
 "cells": [
  {
   "cell_type": "code",
   "execution_count": 1,
   "metadata": {},
   "outputs": [
    {
     "data": {
      "application/javascript": [
       "require.config({\n",
       "    paths: {\n",
       "        'p5': 'https://cdnjs.cloudflare.com/ajax/libs/p5.js/0.7.3/p5', \n",
       "        'p5.dom': 'https://cdnjs.cloudflare.com/ajax/libs/p5.js/0.7.3/addons/p5.dom',\n",
       "        'grafica': 'http://metis.local:8000/js/grafica.js/grafica'\n",
       "    },\n",
       "    shim: {\n",
       "        'p5.dom' : ['p5'],\n",
       "        'grafica': ['p5']\n",
       "    }\n",
       "});"
      ],
      "text/plain": [
       "<IPython.core.display.Javascript object>"
      ]
     },
     "metadata": {},
     "output_type": "display_data"
    }
   ],
   "source": [
    "%%javascript\n",
    "require.config({\n",
    "    paths: {\n",
    "        'p5': 'https://cdnjs.cloudflare.com/ajax/libs/p5.js/0.7.3/p5', \n",
    "        'p5.dom': 'https://cdnjs.cloudflare.com/ajax/libs/p5.js/0.7.3/addons/p5.dom',\n",
    "        'grafica': 'http://metis.local:8000/js/grafica.js/grafica'\n",
    "    },\n",
    "    shim: {\n",
    "        'p5.dom' : ['p5'],\n",
    "        'grafica': ['p5']\n",
    "    }\n",
    "});"
   ]
  },
  {
   "cell_type": "code",
   "execution_count": 2,
   "metadata": {},
   "outputs": [
    {
     "data": {
      "application/javascript": [
       "window.mydefine = function (name, dependencies, module) {\n",
       "    // force the recreation of the module\n",
       "    // (when re-executing a cell)\n",
       "    console.log('mydef', name);\n",
       "    require.undef(name);\n",
       "    \n",
       "    define(name, dependencies, module);\n",
       "};"
      ],
      "text/plain": [
       "<IPython.core.display.Javascript object>"
      ]
     },
     "metadata": {},
     "output_type": "display_data"
    }
   ],
   "source": [
    "%%javascript\n",
    "window.mydefine = function (name, dependencies, module) {\n",
    "    // force the recreation of the module\n",
    "    // (when re-executing a cell)\n",
    "    console.log('mydef', name);\n",
    "    require.undef(name);\n",
    "    \n",
    "    define(name, dependencies, module);\n",
    "};"
   ]
  },
  {
   "cell_type": "code",
   "execution_count": 3,
   "metadata": {},
   "outputs": [],
   "source": [
    "from IPython.display import display, Javascript, HTML\n",
    "import json"
   ]
  },
  {
   "cell_type": "code",
   "execution_count": 4,
   "metadata": {},
   "outputs": [],
   "source": [
    "#a=Javascript(filename=\"js/grafica.js/grafica.js\")\n",
    "#from jupyter_core.paths import jupyter_config_dir\n",
    "#jupyter_dir = jupyter_config_dir()\n",
    "#jupyter_dir"
   ]
  },
  {
   "cell_type": "code",
   "execution_count": 5,
   "metadata": {},
   "outputs": [
    {
     "data": {
      "application/javascript": [
       "/*\n",
       "define('circles', ['d3'], function (d3){\n",
       "    function draw(container, data){\n",
       "        var svg = d3.select(container).append('svg')\n",
       "            .attr('width', 400)\n",
       "            .attr('height', 200);\n",
       "        svg.selectAll('circle')\n",
       "            .data(data)\n",
       "            .enter()\n",
       "            .append('circle')\n",
       "            .attr(\"cx\", function(d, i) {return 40 * (i + 1);})\n",
       "            .attr(\"cy\", function(d, i) {return 100 + 30 * (i % 3 - 1);})\n",
       "            .style(\"fill\", \"#1570a4\")\n",
       "            .transition().duration(2000)\n",
       "            .attr(\"r\", function(d) {return 2*d;});\n",
       "      }\n",
       "    return draw;\n",
       "});\n",
       "\n",
       "mydefine('defaultPlotSketch', ['p5.dom', 'p5'], function(p) {\n",
       "console.log('test');\n",
       "console.log(\"p:\", p);\n",
       "  function plot(container, data){\n",
       "    console.log(\"plot:\",  container, data);\n",
       "\t  // Initial setup\n",
       "\t  p.setup = function() {\n",
       "\t  \t// Create the canvas\n",
       "\t  \tvar canvas = p.createCanvas(500, 350);\n",
       "\t  \tp.background(150);\n",
       "\n",
       "\t  \t// Prepare the points for the plot\n",
       "\t  \tvar points = [];\n",
       "\t  \tvar seed = 100 * p.random();\n",
       "\n",
       "\t  \tfor (var i = 0; i < 100; i++) {\n",
       "\t  \t\tpoints[i] = new GPoint(i, 10 * p.noise(0.1 * i + seed));\n",
       "\t  \t}\n",
       "\n",
       "\t  \t// Create a new plot and set its position on the screen\n",
       "\t  \tvar plot = new GPlot(p);\n",
       "\t  \tplot.setPos(25, 25);\n",
       "\n",
       "\t  \t// Set the plot title and the axis labels\n",
       "\t  \tplot.setPoints(points);\n",
       "\t  \tplot.getXAxis().setAxisLabelText(\"x axis\");\n",
       "\t  \tplot.getYAxis().setAxisLabelText(\"y axis\");\n",
       "\t  \tplot.setTitleText(\"A very simple example\");\n",
       "\n",
       "\t  \t// Draw it!\n",
       "\t  \tplot.defaultDraw();\n",
       "\n",
       "\t  \tp.noLoop();\n",
       "\t  };\n",
       "  };\n",
       "  return plot;\n",
       "});\n",
       "*/\n",
       "\n",
       "mydefine('circles', \n",
       "  ['p5', 'p5.dom', 'grafica'], //'defaultPlotSketch'], \n",
       "  function (p5, p5d, g){\n",
       "    console.log('ksjdlfjs');\n",
       "    function draw(container, data){\n",
       "      \n",
       "      console.log('it works');\n",
       "      console.log(\"pd:\", p5d);\n",
       "      console.log(\"g:\", g);\n",
       "      console.log(container);\n",
       "      console.log(data);\n",
       "\n",
       "      var sketch_div = document.createElement('div');\n",
       "      sketch_div.setAttribute('id', 'cowabunga');\n",
       "      sketch_div.style.position = \"relative\";\n",
       "      container.appendChild(sketch_div);\n",
       "\n",
       "      //defaultPlotSketch(container);\n",
       "      //console.log('start p5');\n",
       "      var sketch = new p5(\n",
       "        function(p){\n",
       "\n",
       "          var rSlider;\n",
       "          var plot;\n",
       "          var points;\n",
       "\n",
       "          var createPoints = function(){\n",
       "            let rpoints = [];\n",
       "            // Prepare the points for the plot\n",
       "            var seed = 100 * p.random();\n",
       "            for (var i = 0; i < rSlider.value(); i+=1) {\n",
       "              //rpoints[i] = new GPoint(i, 10 * p.noise(0.1 * i + seed));\n",
       "              rpoints[i] = new GPoint(i, 10 * Math.sin(i/10.));\n",
       "            }\n",
       "            return rpoints;\n",
       "          }\n",
       "        \n",
       "          // Initial setup\n",
       "          p.setup = function() {\n",
       "            // Create the canvas\n",
       "            var canvas = p.createCanvas(500, 350);\n",
       "            p.background(150);\n",
       "        \n",
       "            // create slider\n",
       "            rSlider = p.createSlider(0, 255, 10);\n",
       "            rSlider.position(500, 0);\n",
       "            rSlider.style('width', '200px');\n",
       "            rSlider.style('position', 'relative');\n",
       "            rSlider.input(update);\n",
       "        \n",
       "            // Prepare the points for the plot\n",
       "            //var points = [];\n",
       "        \n",
       "            points = createPoints();\n",
       "        \n",
       "            // Create a new plot and set its position on the screen\n",
       "            plot = new GPlot(p);\n",
       "            plot.setPointSize(0);\n",
       "            plot.setPos(25, 25);\n",
       "        \n",
       "            // Set the plot title and the axis labels\n",
       "            plot.setPoints(points);\n",
       "            plot.getXAxis().setAxisLabelText(\"x axis\");\n",
       "            plot.getYAxis().setAxisLabelText(\"y axis\");\n",
       "            plot.setTitleText(\"A very simple example\");\n",
       "        \n",
       "            // Draw it!\n",
       "            plot.defaultDraw();\n",
       "        \n",
       "            //p.noLoop();\n",
       "          };\n",
       "        \n",
       "          var update = function () {\n",
       "        \n",
       "            points = createPoints();\n",
       "            console.log(\"58\", points);\n",
       "            // Create a new plot and set its position on the screen\n",
       "            //plot = new GPlot(p);\n",
       "        \n",
       "            // Set the plot title and the axis labels\n",
       "            plot.setPoints(points);\n",
       "        \n",
       "            // Draw it!\n",
       "            plot.defaultDraw();\n",
       "        \n",
       "        \n",
       "          }\n",
       "\n",
       "/*          \n",
       "\n",
       "          // Initial setup\n",
       "          p.setup = function() {\n",
       "\n",
       "            // Create the canvas\n",
       "            var canvas = p.createCanvas(500, 350);\n",
       "            p.background(150);\n",
       "  \n",
       "            // Prepare the points for the plot\n",
       "            var points = [];\n",
       "            var seed = 100 * p.random();\n",
       "  \n",
       "            for (var i = 0; i < 100; i++) {\n",
       "              points[i] = new GPoint(in, \n",
       "                            10 * p.noise(0.1 * i + seed));\n",
       "            }\n",
       "  \n",
       "            // Create a new plot and set its position on the screen\n",
       "            var plot = new GPlot(p);\n",
       "            plot.setPos(25, 25);\n",
       "  \n",
       "            // Set the plot title and the axis labels\n",
       "            plot.setPoints(points);\n",
       "            plot.getXAxis().setAxisLabelText(\"x axis\");\n",
       "            plot.getYAxis().setAxisLabelText(\"y axis\");\n",
       "            plot.setTitleText(\"A very simple example\");\n",
       "  \n",
       "            // Draw it!\n",
       "            plot.defaultDraw();\n",
       "            p.noLoop();\n",
       "          };\n",
       "*/\n",
       "        }, sketch_div);\n",
       "    }\n",
       "    return draw;\n",
       "});\n"
      ],
      "text/plain": [
       "<IPython.core.display.Javascript object>"
      ]
     },
     "execution_count": 5,
     "metadata": {},
     "output_type": "execute_result"
    }
   ],
   "source": [
    "Javascript(filename=\"circles.js\")"
   ]
  },
  {
   "cell_type": "code",
   "execution_count": 6,
   "metadata": {},
   "outputs": [],
   "source": [
    "#from jupyter_core.paths import jupyter_config_dir\n",
    "#jupyter_dir = jupyter_config_dir()\n",
    "#jupyter_dir"
   ]
  },
  {
   "cell_type": "code",
   "execution_count": 7,
   "metadata": {},
   "outputs": [
    {
     "data": {
      "application/javascript": [
       "\n",
       "(function(element){\n",
       "    require(['circles'], function(circles) {\n",
       "        circles(element.get(0), [5, 10, 20, 40, 50, 30, 10, 20, 40, 10, 5])\n",
       "    });\n",
       "})(element);\n"
      ],
      "text/plain": [
       "<IPython.core.display.Javascript object>"
      ]
     },
     "execution_count": 7,
     "metadata": {},
     "output_type": "execute_result"
    }
   ],
   "source": [
    "data = [5, 10, 20, 40, 50, 30, 10, 20, 40, 10, 5];\n",
    "\n",
    "Javascript(\"\"\"\n",
    "(function(element){\n",
    "    require(['circles'], function(circles) {\n",
    "        circles(element.get(0), %s)\n",
    "    });\n",
    "})(element);\n",
    "\"\"\" % json.dumps(data))"
   ]
  }
 ],
 "metadata": {
  "kernelspec": {
   "display_name": "Python 2",
   "language": "python",
   "name": "python2"
  },
  "language_info": {
   "codemirror_mode": {
    "name": "ipython",
    "version": 2
   },
   "file_extension": ".py",
   "mimetype": "text/x-python",
   "name": "python",
   "nbconvert_exporter": "python",
   "pygments_lexer": "ipython2",
   "version": "2.7.10"
  }
 },
 "nbformat": 4,
 "nbformat_minor": 2
}
