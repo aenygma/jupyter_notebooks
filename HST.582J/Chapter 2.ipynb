{
 "cells": [
  {
   "cell_type": "markdown",
   "metadata": {},
   "source": [
    "# Chapter 2: Digital Filters\n",
    "\n",
    "* Filters are a way to restrict or amplify different frequencies of a given signal.  \n",
    "\n",
    "# 2.1.1 _LCCDE_\n",
    "\n",
    "* Linear, Constant-coefficient difference equation (_LCCDE_) are a class of digital filters that are defined by linear operations, and delay (memory elements).  They take the form of \n",
    "$$\n",
    "y[n] = \\sum_{k=1}^K a_k y[n-k] + \\sum_{m=0}^M b_m x[n-m]\n",
    "$$\n",
    "  where M, K are _order_ of the filters.  \n",
    "\n",
    "Despite the jargon, the main thing to note here is that output ($y[n]$) is comprised solely and simply of scaling, and delaying $x$ and $y$. This framework is useful because it allows for various use cases.\n",
    "\n",
    "* (See various examples of LCCDEs)  \n",
    "   TODO: Consider visual aids of each example.\n"
   ]
  },
  {
   "cell_type": "markdown",
   "metadata": {},
   "source": [
    "# 2.1.2 Finite-impulse and Infinite-impulse response filters\n",
    "\n",
    "### FIR Filters:\n",
    "* Filters whose output only depend on previous inputs, or $x$-values, ie, when all of $a_k$ coefficients are zero.\n",
    "* TODO: Why called Finite-Impulse\n",
    "* Examples: Simple gain, delay, moving average. See 1-5 above\n",
    "\n",
    "### IIR Filters:\n",
    "* Filters whose output depend on previous output(s), or $y$-values, ie, when atleast one $a_k$ coefficient is not zero.\n",
    "* TODO: Why called Infinite-Impulse\n",
    "* Examples: Autoregressive, ARMA.\n",
    "\n",
    "(TODO: include causal and anti-causal?)"
   ]
  },
  {
   "cell_type": "code",
   "execution_count": null,
   "metadata": {},
   "outputs": [],
   "source": []
  },
  {
   "cell_type": "markdown",
   "metadata": {},
   "source": [
    "# 2.2 LTI Systems #\n",
    "\n",
    "* Linear time invariance (LTI) is a very important concept in signal processing.  \n",
    "* It simply suggests that linear scaling, superposition and time shifting are viable operations for the given signals.\n",
    "\n",
    "## TODO Visual aids here ##\n",
    "knobs for demonstrating superposition, scaling and time-invariance\n",
    "\n",
    "* **Superposition** indicates that for  \n",
    "  $y_1[n] = f(x_1[n])$ and   \n",
    "  $y_2[n] = f(x_2[n])$,  \n",
    "  then    \n",
    "      \n",
    "  $f(x_1[n] + x_2[n]) = y_1[n] + y_2[n]$  \n",
    "  The function applied to addition of input signals, is same as the sum of the output signals.\n",
    "\n",
    "\n",
    "* **Scaling** indicates that for  \n",
    "  $y[n] = f(x[n])$  \n",
    "  then\n",
    "     \n",
    "  $c y[n] = f(c x[n])$  \n",
    "  The function applied to a constant multiplied to an input signal, is same as if it was multiplied to the output signal.\n",
    "\n",
    "\n",
    "* **Time Invariance** indicates that for  \n",
    "  $y[n] = f(x[n])$\n",
    "  then  \n",
    "    \n",
    "  $y[n - n_0] = f(x[n - n_0])$\n",
    "  The function applied to time-shift, or delay, of input signal, is same as the output being delayed.\n",
    "  \n",
    "Essentially, if a function is LTI, then scaling, adding and delaying inputs simply means that those operations can be directly applied to the output."
   ]
  }
 ],
 "metadata": {
  "kernelspec": {
   "display_name": "Python 2",
   "language": "python",
   "name": "python2"
  },
  "language_info": {
   "codemirror_mode": {
    "name": "ipython",
    "version": 2
   },
   "file_extension": ".py",
   "mimetype": "text/x-python",
   "name": "python",
   "nbconvert_exporter": "python",
   "pygments_lexer": "ipython2",
   "version": "2.7.10"
  }
 },
 "nbformat": 4,
 "nbformat_minor": 2
}
