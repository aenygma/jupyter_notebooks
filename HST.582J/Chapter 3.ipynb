{
 "cells": [
  {
   "cell_type": "markdown",
   "metadata": {},
   "source": [
    "# 3 Fourier Representation and Systems\n",
    "\n",
    "Fourier essentially is a way to look at *frequencies* of a *time-based* signal. It allows a way to represent a *time-based* signal as a set of *frequencies*. Its just a different way to represent the same information. Though its a powerful technique that has some important effects.  \n",
    "Given that a typical signal, like sound, is a continous signal and is comprised of various frequencies, owing to the natural inherent characteristics of its source. \n",
    "\n",
    "It also allows to convert a continuous signal, like an infinite-time sine wave, as a discrete signal of that particular frequency. This ability to move from, or characterize, infinite to finite, is also a very useful property of the Fourier transform.\n"
   ]
  },
  {
   "cell_type": "markdown",
   "metadata": {},
   "source": [
    "# 3.1 Frequency response of LTI Systems\n",
    "\n",
    "\n",
    "\n"
   ]
  }
 ],
 "metadata": {
  "kernelspec": {
   "display_name": "Python 2",
   "language": "python",
   "name": "python2"
  },
  "language_info": {
   "codemirror_mode": {
    "name": "ipython",
    "version": 2
   },
   "file_extension": ".py",
   "mimetype": "text/x-python",
   "name": "python",
   "nbconvert_exporter": "python",
   "pygments_lexer": "ipython2",
   "version": "2.7.10"
  }
 },
 "nbformat": 4,
 "nbformat_minor": 2
}
