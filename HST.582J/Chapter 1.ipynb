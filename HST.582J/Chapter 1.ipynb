{
 "cells": [
  {
   "cell_type": "markdown",
   "metadata": {},
   "source": [
    "# Introduction\n",
    "\n",
    "This is a series of posts based on *HST582J/6.555J/16.456J Biomedical Signal and Image Processing Spring 2007* course on MIT OCW [url here]. These were made to help me process, chew the cud, and aid digestion of this information."
   ]
  },
  {
   "cell_type": "markdown",
   "metadata": {},
   "source": [
    "# 1.1 Continuous-time and Discrete-time signals\n",
    "\n",
    "Let's start with some quick definitions.\n",
    "\n",
    "* A continuous-time sine wave is defined by:\n",
    "$$\n",
    "x(t) = a cos({\\Omega}t + {\\phi}) = a cos(2{\\pi}Ft + {\\phi})\n",
    "$$\n",
    "  \n",
    "  where <i>F</i> is the frequency, <i>${\\Omega}$</i> is the angular frequency, <i>a</i> is amplitude and <i>${\\phi}$</i> is the phase.\n",
    "* This is defined for \"arbitrarily-close points\", meaning that they can be thought of as a line without any breaks. The granularity of how close something is depends on how small increments of <i>t</i> is provided.\n"
   ]
  },
  {
   "cell_type": "markdown",
   "metadata": {},
   "source": [
    "TODO: Insert processing visual aid. Should have knobs for given variables, and display how they affect the signal"
   ]
  },
  {
   "cell_type": "code",
   "execution_count": null,
   "metadata": {},
   "outputs": [],
   "source": [
    "%%"
   ]
  },
  {
   "cell_type": "markdown",
   "metadata": {},
   "source": [
    "* A discrete-time signal is defined by\n",
    "$$\n",
    "x[n] = a cos({\\Omega}n + {\\phi}) = a cos(2{\\pi}fn + {\\phi})\n",
    "$$\n",
    "  where <i>F</i> is the frequency, <i>${\\Omega}$</i> is the angular frequency, <i>a</i> is amplitude and <i>${\\phi}$</i> is the phase.\n",
    "* This is defined for integers only, because it is discrete. Note the <i>indexed</i> square brackets, indicating that this will not be smooth, it will be choppy or with breaks, hence the discrete."
   ]
  },
  {
   "cell_type": "markdown",
   "metadata": {},
   "source": [
    "TODO: Insert visual aid. except for discrete signal."
   ]
  },
  {
   "cell_type": "code",
   "execution_count": 1,
   "metadata": {},
   "outputs": [],
   "source": [
    "#<br>"
   ]
  },
  {
   "cell_type": "markdown",
   "metadata": {},
   "source": [
    "# 1.1.1 Sampling\n",
    "\n",
    "Sampling is essentially taking a set of measurements, so as to recreate the original. This is usually done to convert a continuous signal into a discrete signal, which is a necessary step to process it digitally.    \n",
    "Measurements of the continous signal are taken at regular intervals, called the _sampling frequency ${F_s}$_. \n",
    "The higher the sampling frequency, the more close to the other, the lower it is the more distorted the reconstruction, and less faithful to original signal.\n",
    "\n",
    "TODO: Insert visual aid in 2 frames; original signal and reproduced signal; knob for sampling frequency. (maybe knob for signal frequency. if using fixes"
   ]
  },
  {
   "cell_type": "code",
   "execution_count": null,
   "metadata": {},
   "outputs": [],
   "source": []
  },
  {
   "cell_type": "markdown",
   "metadata": {},
   "source": [
    "# 1.2 Nyquist Criterion\n",
    "\n",
    "In order to reconstruct the continuous signal from the sampled signal, one must properly choose the _sampling frequency ${F_s}$_. Nyquist criterion says that in order to do that, we must use an ${F_s}$ greater than 2 times the highest frequency of the signal to be sampled.  \n",
    "Intuitively, this would ensure you get atleast 2 points per cycle for "
   ]
  }
 ],
 "metadata": {
  "kernelspec": {
   "display_name": "Python 2",
   "language": "python",
   "name": "python2"
  },
  "language_info": {
   "codemirror_mode": {
    "name": "ipython",
    "version": 2
   },
   "file_extension": ".py",
   "mimetype": "text/x-python",
   "name": "python",
   "nbconvert_exporter": "python",
   "pygments_lexer": "ipython2",
   "version": "2.7.10"
  }
 },
 "nbformat": 4,
 "nbformat_minor": 2
}
